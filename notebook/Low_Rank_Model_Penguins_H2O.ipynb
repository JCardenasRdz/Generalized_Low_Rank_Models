{
 "cells": [
  {
   "cell_type": "markdown",
   "metadata": {},
   "source": [
    "<h1><center>Generalized Low Rank Models on the Palmer penguins data set</center></h1>"
   ]
  },
  {
   "cell_type": "markdown",
   "metadata": {},
   "source": [
    "![image1](https://github.com/allisonhorst/palmerpenguins/blob/master/man/figures/lter_penguins.png?raw=true)\n",
    "Artwork by @allison_horst”"
   ]
  },
  {
   "cell_type": "markdown",
   "metadata": {},
   "source": [
    "## Data Source by  `Alison Horst`\n",
    "https://github.com/allisonhorst/palmerpenguinsm"
   ]
  },
  {
   "cell_type": "markdown",
   "metadata": {},
   "source": [
    "### Import libaries and start H2O"
   ]
  },
  {
   "cell_type": "code",
   "execution_count": 1,
   "metadata": {},
   "outputs": [],
   "source": [
    "from h2o.estimators import H2OGeneralizedLowRankEstimator\n",
    "from sklearn.metrics import pairwise\n",
    "import seaborn as sns\n",
    "\n",
    "from sklearn.preprocessing import StandardScaler\n",
    "from sklearn.datasets import make_classification\n",
    "from sklearn.datasets import load_breast_cancer\n",
    "from sklearn.decomposition import PCA\n",
    "from sklearn import preprocessing\n",
    "\n",
    "import matplotlib.pyplot as plt\n",
    "import pandas as pd\n",
    "import numpy as np\n",
    "import h2o\n",
    "\n",
    "scaler = StandardScaler()"
   ]
  },
  {
   "cell_type": "code",
   "execution_count": 2,
   "metadata": {},
   "outputs": [
    {
     "name": "stdout",
     "output_type": "stream",
     "text": [
      "Checking whether there is an H2O instance running at http://localhost:54321 ..... not found.\n",
      "Attempting to start a local H2O server...\n",
      "  Java Version: java version \"13.0.2\" 2020-01-14; Java(TM) SE Runtime Environment (build 13.0.2+8); Java HotSpot(TM) 64-Bit Server VM (build 13.0.2+8, mixed mode, sharing)\n",
      "  Starting server from /Users/jcarde20/Library/Python/3.8/lib/python/site-packages/h2o/backend/bin/h2o.jar\n",
      "  Ice root: /var/folders/d_/pj93f9nd3k9fq5d2jcwxdbq9n_t54d/T/tmp0fzn_x8r\n",
      "  JVM stdout: /var/folders/d_/pj93f9nd3k9fq5d2jcwxdbq9n_t54d/T/tmp0fzn_x8r/h2o_jcarde20_started_from_python.out\n",
      "  JVM stderr: /var/folders/d_/pj93f9nd3k9fq5d2jcwxdbq9n_t54d/T/tmp0fzn_x8r/h2o_jcarde20_started_from_python.err\n",
      "  Server is running at http://127.0.0.1:54321\n",
      "Connecting to H2O server at http://127.0.0.1:54321 ... successful.\n",
      "Warning: Your H2O cluster version is too old (7 months and 20 days)! Please download and install the latest version from http://h2o.ai/download/\n"
     ]
    },
    {
     "data": {
      "text/html": [
       "<div style=\"overflow:auto\"><table style=\"width:50%\"><tr><td>H2O_cluster_uptime:</td>\n",
       "<td>01 secs</td></tr>\n",
       "<tr><td>H2O_cluster_timezone:</td>\n",
       "<td>America/Phoenix</td></tr>\n",
       "<tr><td>H2O_data_parsing_timezone:</td>\n",
       "<td>UTC</td></tr>\n",
       "<tr><td>H2O_cluster_version:</td>\n",
       "<td>3.30.1.3</td></tr>\n",
       "<tr><td>H2O_cluster_version_age:</td>\n",
       "<td>7 months and 20 days !!!</td></tr>\n",
       "<tr><td>H2O_cluster_name:</td>\n",
       "<td>H2O_from_python_jcarde20_ei29po</td></tr>\n",
       "<tr><td>H2O_cluster_total_nodes:</td>\n",
       "<td>1</td></tr>\n",
       "<tr><td>H2O_cluster_free_memory:</td>\n",
       "<td>8 Gb</td></tr>\n",
       "<tr><td>H2O_cluster_total_cores:</td>\n",
       "<td>16</td></tr>\n",
       "<tr><td>H2O_cluster_allowed_cores:</td>\n",
       "<td>16</td></tr>\n",
       "<tr><td>H2O_cluster_status:</td>\n",
       "<td>accepting new members, healthy</td></tr>\n",
       "<tr><td>H2O_connection_url:</td>\n",
       "<td>http://127.0.0.1:54321</td></tr>\n",
       "<tr><td>H2O_connection_proxy:</td>\n",
       "<td>{\"http\": null, \"https\": null}</td></tr>\n",
       "<tr><td>H2O_internal_security:</td>\n",
       "<td>False</td></tr>\n",
       "<tr><td>H2O_API_Extensions:</td>\n",
       "<td>Amazon S3, XGBoost, Algos, AutoML, Core V3, TargetEncoder, Core V4</td></tr>\n",
       "<tr><td>Python_version:</td>\n",
       "<td>3.8.1 final</td></tr></table></div>"
      ],
      "text/plain": [
       "--------------------------  ------------------------------------------------------------------\n",
       "H2O_cluster_uptime:         01 secs\n",
       "H2O_cluster_timezone:       America/Phoenix\n",
       "H2O_data_parsing_timezone:  UTC\n",
       "H2O_cluster_version:        3.30.1.3\n",
       "H2O_cluster_version_age:    7 months and 20 days !!!\n",
       "H2O_cluster_name:           H2O_from_python_jcarde20_ei29po\n",
       "H2O_cluster_total_nodes:    1\n",
       "H2O_cluster_free_memory:    8 Gb\n",
       "H2O_cluster_total_cores:    16\n",
       "H2O_cluster_allowed_cores:  16\n",
       "H2O_cluster_status:         accepting new members, healthy\n",
       "H2O_connection_url:         http://127.0.0.1:54321\n",
       "H2O_connection_proxy:       {\"http\": null, \"https\": null}\n",
       "H2O_internal_security:      False\n",
       "H2O_API_Extensions:         Amazon S3, XGBoost, Algos, AutoML, Core V3, TargetEncoder, Core V4\n",
       "Python_version:             3.8.1 final\n",
       "--------------------------  ------------------------------------------------------------------"
      ]
     },
     "metadata": {},
     "output_type": "display_data"
    }
   ],
   "source": [
    "h2o.init()"
   ]
  },
  {
   "cell_type": "markdown",
   "metadata": {},
   "source": [
    "### Load Data on pandas"
   ]
  },
  {
   "cell_type": "code",
   "execution_count": 4,
   "metadata": {},
   "outputs": [],
   "source": [
    "penguins = pd.read_csv('../data/penguins.csv')\n",
    "\n",
    "# rename cols\n",
    "penguins.rename( columns=dict(species = 'species_', island='island_'), inplace=True )"
   ]
  },
  {
   "cell_type": "code",
   "execution_count": 5,
   "metadata": {},
   "outputs": [
    {
     "data": {
      "text/html": [
       "<div>\n",
       "<style scoped>\n",
       "    .dataframe tbody tr th:only-of-type {\n",
       "        vertical-align: middle;\n",
       "    }\n",
       "\n",
       "    .dataframe tbody tr th {\n",
       "        vertical-align: top;\n",
       "    }\n",
       "\n",
       "    .dataframe thead th {\n",
       "        text-align: right;\n",
       "    }\n",
       "</style>\n",
       "<table border=\"1\" class=\"dataframe\">\n",
       "  <thead>\n",
       "    <tr style=\"text-align: right;\">\n",
       "      <th></th>\n",
       "      <th>species_</th>\n",
       "      <th>island_</th>\n",
       "      <th>bill_length_mm</th>\n",
       "      <th>bill_depth_mm</th>\n",
       "      <th>flipper_length_mm</th>\n",
       "      <th>body_mass_g</th>\n",
       "      <th>sex</th>\n",
       "    </tr>\n",
       "  </thead>\n",
       "  <tbody>\n",
       "    <tr>\n",
       "      <th>0</th>\n",
       "      <td>Adelie</td>\n",
       "      <td>Torgersen</td>\n",
       "      <td>39.1</td>\n",
       "      <td>18.7</td>\n",
       "      <td>181.0</td>\n",
       "      <td>3750.0</td>\n",
       "      <td>MALE</td>\n",
       "    </tr>\n",
       "    <tr>\n",
       "      <th>1</th>\n",
       "      <td>Adelie</td>\n",
       "      <td>Torgersen</td>\n",
       "      <td>39.5</td>\n",
       "      <td>17.4</td>\n",
       "      <td>186.0</td>\n",
       "      <td>3800.0</td>\n",
       "      <td>FEMALE</td>\n",
       "    </tr>\n",
       "    <tr>\n",
       "      <th>2</th>\n",
       "      <td>Adelie</td>\n",
       "      <td>Torgersen</td>\n",
       "      <td>40.3</td>\n",
       "      <td>18.0</td>\n",
       "      <td>195.0</td>\n",
       "      <td>3250.0</td>\n",
       "      <td>FEMALE</td>\n",
       "    </tr>\n",
       "    <tr>\n",
       "      <th>3</th>\n",
       "      <td>Adelie</td>\n",
       "      <td>Torgersen</td>\n",
       "      <td>NaN</td>\n",
       "      <td>NaN</td>\n",
       "      <td>NaN</td>\n",
       "      <td>NaN</td>\n",
       "      <td>NaN</td>\n",
       "    </tr>\n",
       "    <tr>\n",
       "      <th>4</th>\n",
       "      <td>Adelie</td>\n",
       "      <td>Torgersen</td>\n",
       "      <td>36.7</td>\n",
       "      <td>19.3</td>\n",
       "      <td>193.0</td>\n",
       "      <td>3450.0</td>\n",
       "      <td>FEMALE</td>\n",
       "    </tr>\n",
       "    <tr>\n",
       "      <th>5</th>\n",
       "      <td>Adelie</td>\n",
       "      <td>Torgersen</td>\n",
       "      <td>39.3</td>\n",
       "      <td>20.6</td>\n",
       "      <td>190.0</td>\n",
       "      <td>3650.0</td>\n",
       "      <td>MALE</td>\n",
       "    </tr>\n",
       "    <tr>\n",
       "      <th>6</th>\n",
       "      <td>Adelie</td>\n",
       "      <td>Torgersen</td>\n",
       "      <td>38.9</td>\n",
       "      <td>17.8</td>\n",
       "      <td>181.0</td>\n",
       "      <td>3625.0</td>\n",
       "      <td>FEMALE</td>\n",
       "    </tr>\n",
       "    <tr>\n",
       "      <th>7</th>\n",
       "      <td>Adelie</td>\n",
       "      <td>Torgersen</td>\n",
       "      <td>39.2</td>\n",
       "      <td>19.6</td>\n",
       "      <td>195.0</td>\n",
       "      <td>4675.0</td>\n",
       "      <td>MALE</td>\n",
       "    </tr>\n",
       "    <tr>\n",
       "      <th>8</th>\n",
       "      <td>Adelie</td>\n",
       "      <td>Torgersen</td>\n",
       "      <td>34.1</td>\n",
       "      <td>18.1</td>\n",
       "      <td>193.0</td>\n",
       "      <td>3475.0</td>\n",
       "      <td>NaN</td>\n",
       "    </tr>\n",
       "    <tr>\n",
       "      <th>9</th>\n",
       "      <td>Adelie</td>\n",
       "      <td>Torgersen</td>\n",
       "      <td>42.0</td>\n",
       "      <td>20.2</td>\n",
       "      <td>190.0</td>\n",
       "      <td>4250.0</td>\n",
       "      <td>NaN</td>\n",
       "    </tr>\n",
       "  </tbody>\n",
       "</table>\n",
       "</div>"
      ],
      "text/plain": [
       "  species_    island_  bill_length_mm  bill_depth_mm  flipper_length_mm  \\\n",
       "0   Adelie  Torgersen            39.1           18.7              181.0   \n",
       "1   Adelie  Torgersen            39.5           17.4              186.0   \n",
       "2   Adelie  Torgersen            40.3           18.0              195.0   \n",
       "3   Adelie  Torgersen             NaN            NaN                NaN   \n",
       "4   Adelie  Torgersen            36.7           19.3              193.0   \n",
       "5   Adelie  Torgersen            39.3           20.6              190.0   \n",
       "6   Adelie  Torgersen            38.9           17.8              181.0   \n",
       "7   Adelie  Torgersen            39.2           19.6              195.0   \n",
       "8   Adelie  Torgersen            34.1           18.1              193.0   \n",
       "9   Adelie  Torgersen            42.0           20.2              190.0   \n",
       "\n",
       "   body_mass_g     sex  \n",
       "0       3750.0    MALE  \n",
       "1       3800.0  FEMALE  \n",
       "2       3250.0  FEMALE  \n",
       "3          NaN     NaN  \n",
       "4       3450.0  FEMALE  \n",
       "5       3650.0    MALE  \n",
       "6       3625.0  FEMALE  \n",
       "7       4675.0    MALE  \n",
       "8       3475.0     NaN  \n",
       "9       4250.0     NaN  "
      ]
     },
     "execution_count": 5,
     "metadata": {},
     "output_type": "execute_result"
    }
   ],
   "source": [
    "penguins.head(10)"
   ]
  },
  {
   "cell_type": "code",
   "execution_count": 92,
   "metadata": {},
   "outputs": [
    {
     "data": {
      "text/plain": [
       "(344, 7)"
      ]
     },
     "execution_count": 92,
     "metadata": {},
     "output_type": "execute_result"
    }
   ],
   "source": [
    "penguins.shape"
   ]
  },
  {
   "cell_type": "code",
   "execution_count": 6,
   "metadata": {},
   "outputs": [],
   "source": [
    "num_cols = ['bill_length_mm', 'bill_depth_mm','flipper_length_mm','body_mass_g']\n",
    "bol_cols = ['sex']\n",
    "cat_cols = ['island_','species_']"
   ]
  },
  {
   "cell_type": "markdown",
   "metadata": {},
   "source": [
    "## clean cont data"
   ]
  },
  {
   "cell_type": "code",
   "execution_count": 7,
   "metadata": {},
   "outputs": [],
   "source": [
    "ste = preprocessing.StandardScaler()\n",
    "ste.fit(penguins[num_cols])\n",
    "\n",
    "penguins[ num_cols ] = ste.transform(penguins[num_cols])"
   ]
  },
  {
   "cell_type": "markdown",
   "metadata": {},
   "source": [
    "### Load data onto H2O"
   ]
  },
  {
   "cell_type": "code",
   "execution_count": 8,
   "metadata": {},
   "outputs": [
    {
     "name": "stdout",
     "output_type": "stream",
     "text": [
      "Parse progress: |█████████████████████████████████████████████████████████| 100%\n"
     ]
    }
   ],
   "source": [
    "# convert to h2o frame\n",
    "A = h2o.H2OFrame(   penguins   )  # we need to drop the nan\n"
   ]
  },
  {
   "cell_type": "code",
   "execution_count": 93,
   "metadata": {},
   "outputs": [
    {
     "data": {
      "text/plain": [
       "(344, 7)"
      ]
     },
     "execution_count": 93,
     "metadata": {},
     "output_type": "execute_result"
    }
   ],
   "source": [
    "A.shape"
   ]
  },
  {
   "cell_type": "markdown",
   "metadata": {},
   "source": [
    "### Define Factor Columns onto H2O"
   ]
  },
  {
   "cell_type": "code",
   "execution_count": 9,
   "metadata": {},
   "outputs": [],
   "source": [
    "for C in bol_cols + cat_cols:\n",
    "    A[C] = A[C].asfactor()"
   ]
  },
  {
   "cell_type": "code",
   "execution_count": 10,
   "metadata": {},
   "outputs": [
    {
     "name": "stdout",
     "output_type": "stream",
     "text": [
      "The size of the original data is: \n",
      "- rows = 344\n",
      "- cols = 7\n"
     ]
    }
   ],
   "source": [
    "print( 'The size of the original data is: \\n- rows = {0}\\n- cols = {1}'.format(*A.shape))"
   ]
  },
  {
   "cell_type": "code",
   "execution_count": 11,
   "metadata": {},
   "outputs": [
    {
     "data": {
      "text/html": [
       "<table>\n",
       "<thead>\n",
       "<tr><th>species_  </th><th>island_  </th><th style=\"text-align: right;\">  bill_length_mm</th><th style=\"text-align: right;\">  bill_depth_mm</th><th style=\"text-align: right;\">  flipper_length_mm</th><th style=\"text-align: right;\">  body_mass_g</th><th>sex   </th></tr>\n",
       "</thead>\n",
       "<tbody>\n",
       "<tr><td>Adelie    </td><td>Torgersen</td><td style=\"text-align: right;\">       -0.884499</td><td style=\"text-align: right;\">       0.785449</td><td style=\"text-align: right;\">          -1.41835 </td><td style=\"text-align: right;\">    -0.564142</td><td>MALE  </td></tr>\n",
       "<tr><td>Adelie    </td><td>Torgersen</td><td style=\"text-align: right;\">       -0.811126</td><td style=\"text-align: right;\">       0.126188</td><td style=\"text-align: right;\">          -1.06225 </td><td style=\"text-align: right;\">    -0.501703</td><td>FEMALE</td></tr>\n",
       "<tr><td>Adelie    </td><td>Torgersen</td><td style=\"text-align: right;\">       -0.66438 </td><td style=\"text-align: right;\">       0.430462</td><td style=\"text-align: right;\">          -0.421277</td><td style=\"text-align: right;\">    -1.18853 </td><td>FEMALE</td></tr>\n",
       "</tbody>\n",
       "</table>"
      ]
     },
     "metadata": {},
     "output_type": "display_data"
    },
    {
     "data": {
      "text/plain": []
     },
     "execution_count": 11,
     "metadata": {},
     "output_type": "execute_result"
    }
   ],
   "source": [
    "A.head(3)"
   ]
  },
  {
   "cell_type": "markdown",
   "metadata": {},
   "source": [
    "## Split data"
   ]
  },
  {
   "cell_type": "code",
   "execution_count": 12,
   "metadata": {},
   "outputs": [],
   "source": [
    "# Split the dataset into a train and valid set:\n",
    "train, test = A.split_frame(ratios=[.7], seed=1234)"
   ]
  },
  {
   "cell_type": "markdown",
   "metadata": {},
   "source": [
    "## Custom Function"
   ]
  },
  {
   "cell_type": "code",
   "execution_count": 99,
   "metadata": {},
   "outputs": [],
   "source": [
    "def glrm(A_h2o_df, Rank=2, Xreg= None, Yreg=None, gamma_x=None, gamma_y=None, seed=42, svd_method='Randomized'):\n",
    "    ## Build and train the model:\n",
    "    \n",
    "    model = H2OGeneralizedLowRankEstimator(k= Rank,\n",
    "                                            loss= 'Quadratic' ,\n",
    "                                            transform= 'Standardize', # for numeric\n",
    "                                            gamma_x= gamma_x,\n",
    "                                            gamma_y= gamma_y,\n",
    "                                            impute_original=False,\n",
    "                                            max_iterations=700,\n",
    "                                            recover_svd=True,\n",
    "                                            init=\"SVD\",\n",
    "                                            svd_method= svd_method ,\n",
    "                                            regularization_x = Xreg,\n",
    "                                            regularization_y = Yreg,\n",
    "                                            representation_name ='my_very_cool_X',\n",
    "                                            seed = seed)\n",
    "\n",
    "    \n",
    "    model.train(training_frame = A_h2o_df)\n",
    "    \n",
    "    # archetypes\n",
    "    Y = model._model_json[\"output\"]['archetypes'].as_data_frame().drop('',axis=1)\n",
    "    \n",
    "    X = h2o.get_frame(model._model_json[\"output\"][\"representation_name\"]).as_data_frame()\n",
    "    X.columns = ['x' + i.split('Arch')[1] for i in X.columns]\n",
    "    \n",
    "    \n",
    "    R=dict()\n",
    "    R['glrm'] = model\n",
    "    R['X'] = X\n",
    "    R['Y'] = Y\n",
    "    R['Y_encoded_from_train'] = model.proj_archetypes(A)\n",
    "    \n",
    "    return R\n",
    "    \n",
    "    \n",
    "    "
   ]
  },
  {
   "cell_type": "markdown",
   "metadata": {},
   "source": [
    "### Low Rank model"
   ]
  },
  {
   "cell_type": "code",
   "execution_count": 100,
   "metadata": {},
   "outputs": [
    {
     "name": "stdout",
     "output_type": "stream",
     "text": [
      "glrm Model Build progress: |██████████████████████████████████████████████| 100%\n",
      "CPU times: user 27.9 ms, sys: 8.96 ms, total: 36.9 ms\n",
      "Wall time: 258 ms\n"
     ]
    }
   ],
   "source": [
    "%%time\n",
    "Yreg =  'L2'\n",
    "Xreg =  'L2'\n",
    "Gamma= 1\n",
    "rank = 4\n",
    "\n",
    "lrm = glrm(  A, Rank =  rank, Xreg = Xreg, Yreg = Yreg, gamma_x= Gamma, gamma_y= Gamma, svd_method='GramSVD')"
   ]
  },
  {
   "cell_type": "markdown",
   "metadata": {},
   "source": [
    "## Output and convergence"
   ]
  },
  {
   "cell_type": "code",
   "execution_count": 101,
   "metadata": {},
   "outputs": [
    {
     "data": {
      "image/png": "[encoded data removed]",
      "text/plain": [
       "<Figure size 800x600 with 1 Axes>"
      ]
     },
     "metadata": {},
     "output_type": "display_data"
    }
   ],
   "source": [
    "# Plot objective function value each iteration\n",
    "glrm_score = lrm['glrm'].score_history()\n",
    "\n",
    "plt.figure(dpi=100, figsize=(8,6))\n",
    "plt.plot(glrm_score[\"iterations\"], glrm_score[\"objective\"])\n",
    "plt.xlabel(\"Iteration\")\n",
    "plt.ylabel(\"Objective\")\n",
    "plt.title(\"Objective Function Value per Iteration\")\n",
    "plt.show()"
   ]
  },
  {
   "cell_type": "code",
   "execution_count": 102,
   "metadata": {},
   "outputs": [],
   "source": [
    "#lrm['glrm']._model_json[\"output\"]"
   ]
  },
  {
   "cell_type": "code",
   "execution_count": 103,
   "metadata": {},
   "outputs": [
    {
     "name": "stdout",
     "output_type": "stream",
     "text": [
      "glrm prediction progress: |███████████████████████████████████████████████| 100%\n"
     ]
    },
    {
     "data": {
      "text/html": [
       "<table>\n",
       "<thead>\n",
       "<tr><th>reconstr_species_  </th><th>reconstr_island_  </th><th style=\"text-align: right;\">  reconstr_bill_length_mm</th><th style=\"text-align: right;\">  reconstr_bill_depth_mm</th><th style=\"text-align: right;\">  reconstr_flipper_length_mm</th><th style=\"text-align: right;\">  reconstr_body_mass_g</th><th>reconstr_sex  </th></tr>\n",
       "</thead>\n",
       "<tbody>\n",
       "<tr><td>Adelie             </td><td>Torgersen         </td><td style=\"text-align: right;\">                -1.36797 </td><td style=\"text-align: right;\">                1.12354 </td><td style=\"text-align: right;\">                   -0.880823</td><td style=\"text-align: right;\">             -0.468252</td><td>MALE          </td></tr>\n",
       "<tr><td>Adelie             </td><td>Torgersen         </td><td style=\"text-align: right;\">                -1.56452 </td><td style=\"text-align: right;\">                0.566639</td><td style=\"text-align: right;\">                   -0.773371</td><td style=\"text-align: right;\">             -0.498625</td><td>nan           </td></tr>\n",
       "<tr><td>Adelie             </td><td>Torgersen         </td><td style=\"text-align: right;\">                -1.13683 </td><td style=\"text-align: right;\">                0.859679</td><td style=\"text-align: right;\">                   -0.595212</td><td style=\"text-align: right;\">             -0.270185</td><td>MALE          </td></tr>\n",
       "<tr><td>Adelie             </td><td>Torgersen         </td><td style=\"text-align: right;\">                -1.53626 </td><td style=\"text-align: right;\">                1.92448 </td><td style=\"text-align: right;\">                   -0.605464</td><td style=\"text-align: right;\">              0.228835</td><td>MALE          </td></tr>\n",
       "<tr><td>Adelie             </td><td>Torgersen         </td><td style=\"text-align: right;\">                -0.46838 </td><td style=\"text-align: right;\">                1.94357 </td><td style=\"text-align: right;\">                   -0.273803</td><td style=\"text-align: right;\">              0.422134</td><td>MALE          </td></tr>\n",
       "<tr><td>Adelie             </td><td>Torgersen         </td><td style=\"text-align: right;\">                -2.20443 </td><td style=\"text-align: right;\">                0.553333</td><td style=\"text-align: right;\">                   -1.29272 </td><td style=\"text-align: right;\">             -1.01155 </td><td>FEMALE        </td></tr>\n",
       "<tr><td>Adelie             </td><td>Torgersen         </td><td style=\"text-align: right;\">                -0.413959</td><td style=\"text-align: right;\">                2.41979 </td><td style=\"text-align: right;\">                   -0.403927</td><td style=\"text-align: right;\">              0.371423</td><td>MALE          </td></tr>\n",
       "<tr><td>Adelie             </td><td>Biscoe            </td><td style=\"text-align: right;\">                -1.46225 </td><td style=\"text-align: right;\">                0.107228</td><td style=\"text-align: right;\">                   -1.06281 </td><td style=\"text-align: right;\">             -0.952304</td><td>FEMALE        </td></tr>\n",
       "<tr><td>Adelie             </td><td>Biscoe            </td><td style=\"text-align: right;\">                -1.3343  </td><td style=\"text-align: right;\">                0.88806 </td><td style=\"text-align: right;\">                   -0.75497 </td><td style=\"text-align: right;\">             -0.294731</td><td>MALE          </td></tr>\n",
       "<tr><td>Adelie             </td><td>Biscoe            </td><td style=\"text-align: right;\">                -1.42028 </td><td style=\"text-align: right;\">                0.165612</td><td style=\"text-align: right;\">                   -0.838972</td><td style=\"text-align: right;\">             -0.64702 </td><td>FEMALE        </td></tr>\n",
       "</tbody>\n",
       "</table>"
      ]
     },
     "metadata": {},
     "output_type": "display_data"
    },
    {
     "data": {
      "text/plain": []
     },
     "execution_count": 103,
     "metadata": {},
     "output_type": "execute_result"
    }
   ],
   "source": [
    "lrm['glrm'].predict(test)"
   ]
  },
  {
   "cell_type": "markdown",
   "metadata": {},
   "source": [
    "## `Y`  "
   ]
  },
  {
   "cell_type": "code",
   "execution_count": 104,
   "metadata": {},
   "outputs": [
    {
     "data": {
      "text/html": [
       "<div>\n",
       "<style scoped>\n",
       "    .dataframe tbody tr th:only-of-type {\n",
       "        vertical-align: middle;\n",
       "    }\n",
       "\n",
       "    .dataframe tbody tr th {\n",
       "        vertical-align: top;\n",
       "    }\n",
       "\n",
       "    .dataframe thead th {\n",
       "        text-align: right;\n",
       "    }\n",
       "</style>\n",
       "<table border=\"1\" class=\"dataframe\">\n",
       "  <thead>\n",
       "    <tr style=\"text-align: right;\">\n",
       "      <th></th>\n",
       "      <th>species_adelie</th>\n",
       "      <th>species_chinstrap</th>\n",
       "      <th>species_gentoo</th>\n",
       "      <th>island_biscoe</th>\n",
       "      <th>island_dream</th>\n",
       "      <th>island_torgersen</th>\n",
       "      <th>sexfemale</th>\n",
       "      <th>sexmale</th>\n",
       "      <th>sexnan</th>\n",
       "      <th>bill_length_mm</th>\n",
       "      <th>bill_depth_mm</th>\n",
       "      <th>flipper_length_mm</th>\n",
       "      <th>body_mass_g</th>\n",
       "    </tr>\n",
       "  </thead>\n",
       "  <tbody>\n",
       "    <tr>\n",
       "      <th>0</th>\n",
       "      <td>4.103814</td>\n",
       "      <td>-0.028108</td>\n",
       "      <td>-5.247106</td>\n",
       "      <td>-6.166707</td>\n",
       "      <td>2.110879</td>\n",
       "      <td>2.058700</td>\n",
       "      <td>1.347136</td>\n",
       "      <td>-1.338581</td>\n",
       "      <td>-1.174547</td>\n",
       "      <td>-1.941816</td>\n",
       "      <td>1.776074</td>\n",
       "      <td>-2.446215</td>\n",
       "      <td>-2.330267</td>\n",
       "    </tr>\n",
       "    <tr>\n",
       "      <th>1</th>\n",
       "      <td>-1.094737</td>\n",
       "      <td>3.988277</td>\n",
       "      <td>0.833144</td>\n",
       "      <td>-2.818002</td>\n",
       "      <td>0.640065</td>\n",
       "      <td>3.511355</td>\n",
       "      <td>-1.606845</td>\n",
       "      <td>1.435973</td>\n",
       "      <td>5.226229</td>\n",
       "      <td>0.799089</td>\n",
       "      <td>0.321208</td>\n",
       "      <td>0.509782</td>\n",
       "      <td>0.481800</td>\n",
       "    </tr>\n",
       "    <tr>\n",
       "      <th>2</th>\n",
       "      <td>-0.794172</td>\n",
       "      <td>1.050819</td>\n",
       "      <td>-1.692499</td>\n",
       "      <td>-1.582202</td>\n",
       "      <td>3.555440</td>\n",
       "      <td>-2.188301</td>\n",
       "      <td>-4.308267</td>\n",
       "      <td>5.018605</td>\n",
       "      <td>-1.737917</td>\n",
       "      <td>1.452365</td>\n",
       "      <td>1.690110</td>\n",
       "      <td>0.187917</td>\n",
       "      <td>0.453396</td>\n",
       "    </tr>\n",
       "    <tr>\n",
       "      <th>3</th>\n",
       "      <td>-3.731864</td>\n",
       "      <td>3.475769</td>\n",
       "      <td>0.074547</td>\n",
       "      <td>-1.043308</td>\n",
       "      <td>4.694230</td>\n",
       "      <td>-2.384316</td>\n",
       "      <td>3.897801</td>\n",
       "      <td>-3.294122</td>\n",
       "      <td>0.940295</td>\n",
       "      <td>0.993589</td>\n",
       "      <td>-0.837670</td>\n",
       "      <td>-0.129787</td>\n",
       "      <td>-0.759516</td>\n",
       "    </tr>\n",
       "  </tbody>\n",
       "</table>\n",
       "</div>"
      ],
      "text/plain": [
       "   species_adelie  species_chinstrap  species_gentoo  island_biscoe  \\\n",
       "0        4.103814          -0.028108       -5.247106      -6.166707   \n",
       "1       -1.094737           3.988277        0.833144      -2.818002   \n",
       "2       -0.794172           1.050819       -1.692499      -1.582202   \n",
       "3       -3.731864           3.475769        0.074547      -1.043308   \n",
       "\n",
       "   island_dream  island_torgersen  sexfemale   sexmale    sexnan  \\\n",
       "0      2.110879          2.058700   1.347136 -1.338581 -1.174547   \n",
       "1      0.640065          3.511355  -1.606845  1.435973  5.226229   \n",
       "2      3.555440         -2.188301  -4.308267  5.018605 -1.737917   \n",
       "3      4.694230         -2.384316   3.897801 -3.294122  0.940295   \n",
       "\n",
       "   bill_length_mm  bill_depth_mm  flipper_length_mm  body_mass_g  \n",
       "0       -1.941816       1.776074          -2.446215    -2.330267  \n",
       "1        0.799089       0.321208           0.509782     0.481800  \n",
       "2        1.452365       1.690110           0.187917     0.453396  \n",
       "3        0.993589      -0.837670          -0.129787    -0.759516  "
      ]
     },
     "execution_count": 104,
     "metadata": {},
     "output_type": "execute_result"
    }
   ],
   "source": [
    "lrm['Y']"
   ]
  },
  {
   "cell_type": "markdown",
   "metadata": {},
   "source": [
    "## `X` "
   ]
  },
  {
   "cell_type": "code",
   "execution_count": 105,
   "metadata": {},
   "outputs": [
    {
     "data": {
      "text/html": [
       "<div>\n",
       "<style scoped>\n",
       "    .dataframe tbody tr th:only-of-type {\n",
       "        vertical-align: middle;\n",
       "    }\n",
       "\n",
       "    .dataframe tbody tr th {\n",
       "        vertical-align: top;\n",
       "    }\n",
       "\n",
       "    .dataframe thead th {\n",
       "        text-align: right;\n",
       "    }\n",
       "</style>\n",
       "<table border=\"1\" class=\"dataframe\">\n",
       "  <thead>\n",
       "    <tr style=\"text-align: right;\">\n",
       "      <th></th>\n",
       "      <th>x1</th>\n",
       "      <th>x2</th>\n",
       "      <th>x3</th>\n",
       "      <th>x4</th>\n",
       "    </tr>\n",
       "  </thead>\n",
       "  <tbody>\n",
       "    <tr>\n",
       "      <th>0</th>\n",
       "      <td>0.354249</td>\n",
       "      <td>-0.128056</td>\n",
       "      <td>0.065069</td>\n",
       "      <td>-0.404200</td>\n",
       "    </tr>\n",
       "    <tr>\n",
       "      <th>1</th>\n",
       "      <td>0.323687</td>\n",
       "      <td>-0.162733</td>\n",
       "      <td>-0.225944</td>\n",
       "      <td>-0.172180</td>\n",
       "    </tr>\n",
       "    <tr>\n",
       "      <th>2</th>\n",
       "      <td>0.327479</td>\n",
       "      <td>-0.161390</td>\n",
       "      <td>-0.223023</td>\n",
       "      <td>-0.169566</td>\n",
       "    </tr>\n",
       "    <tr>\n",
       "      <th>3</th>\n",
       "      <td>0.356869</td>\n",
       "      <td>0.272961</td>\n",
       "      <td>-0.407246</td>\n",
       "      <td>-0.592499</td>\n",
       "    </tr>\n",
       "    <tr>\n",
       "      <th>4</th>\n",
       "      <td>0.371377</td>\n",
       "      <td>-0.157500</td>\n",
       "      <td>-0.226494</td>\n",
       "      <td>-0.187042</td>\n",
       "    </tr>\n",
       "    <tr>\n",
       "      <th>...</th>\n",
       "      <td>...</td>\n",
       "      <td>...</td>\n",
       "      <td>...</td>\n",
       "      <td>...</td>\n",
       "    </tr>\n",
       "    <tr>\n",
       "      <th>339</th>\n",
       "      <td>-0.817973</td>\n",
       "      <td>-0.104690</td>\n",
       "      <td>-0.393932</td>\n",
       "      <td>-0.079478</td>\n",
       "    </tr>\n",
       "    <tr>\n",
       "      <th>340</th>\n",
       "      <td>-0.486823</td>\n",
       "      <td>-0.377354</td>\n",
       "      <td>-0.162420</td>\n",
       "      <td>0.125077</td>\n",
       "    </tr>\n",
       "    <tr>\n",
       "      <th>341</th>\n",
       "      <td>-0.667708</td>\n",
       "      <td>-0.229975</td>\n",
       "      <td>0.210379</td>\n",
       "      <td>-0.230795</td>\n",
       "    </tr>\n",
       "    <tr>\n",
       "      <th>342</th>\n",
       "      <td>-0.462577</td>\n",
       "      <td>-0.372496</td>\n",
       "      <td>-0.221623</td>\n",
       "      <td>0.017967</td>\n",
       "    </tr>\n",
       "    <tr>\n",
       "      <th>343</th>\n",
       "      <td>-0.487624</td>\n",
       "      <td>-0.205621</td>\n",
       "      <td>0.211024</td>\n",
       "      <td>-0.140119</td>\n",
       "    </tr>\n",
       "  </tbody>\n",
       "</table>\n",
       "<p>344 rows × 4 columns</p>\n",
       "</div>"
      ],
      "text/plain": [
       "           x1        x2        x3        x4\n",
       "0    0.354249 -0.128056  0.065069 -0.404200\n",
       "1    0.323687 -0.162733 -0.225944 -0.172180\n",
       "2    0.327479 -0.161390 -0.223023 -0.169566\n",
       "3    0.356869  0.272961 -0.407246 -0.592499\n",
       "4    0.371377 -0.157500 -0.226494 -0.187042\n",
       "..        ...       ...       ...       ...\n",
       "339 -0.817973 -0.104690 -0.393932 -0.079478\n",
       "340 -0.486823 -0.377354 -0.162420  0.125077\n",
       "341 -0.667708 -0.229975  0.210379 -0.230795\n",
       "342 -0.462577 -0.372496 -0.221623  0.017967\n",
       "343 -0.487624 -0.205621  0.211024 -0.140119\n",
       "\n",
       "[344 rows x 4 columns]"
      ]
     },
     "execution_count": 105,
     "metadata": {},
     "output_type": "execute_result"
    }
   ],
   "source": [
    "lrm['X']"
   ]
  },
  {
   "cell_type": "markdown",
   "metadata": {},
   "source": [
    "## Feature plot in 2D space "
   ]
  },
  {
   "cell_type": "code",
   "execution_count": 106,
   "metadata": {},
   "outputs": [],
   "source": [
    "import plotly.express as px\n",
    "\n",
    "def scatter_plot(dframe, Xcol, Ycol, size=2):\n",
    "    D = dframe.copy()\n",
    "    D['size'] = size\n",
    "    D = D.reset_index()\n",
    "    D['symbol'] = ['categorical','categorical', 'categorical', 'categorical', 'categorical', 'categorical'\n",
    "               , 'boolean', 'boolean', 'boolean'\n",
    "               , 'numeric', 'numeric', 'numeric', 'numeric']\n",
    "    \n",
    "    fig = px.scatter(data_frame= D, x= Xcol, y=Ycol,size='size',\n",
    "                 hover_name='index',symbol='symbol',color='symbol')\n",
    "    \n",
    "    fig.write_html(\"Y2D.html\")\n",
    "    \n",
    "Y2 = lrm['Y'].T.copy()\n",
    "Y2.columns = ['dim_' + str(i )for i in np.arange(1,len(Y2.columns)+1) ]"
   ]
  },
  {
   "cell_type": "code",
   "execution_count": 107,
   "metadata": {},
   "outputs": [],
   "source": [
    "scatter_plot(Y2,'dim_1','dim_2',size=1)"
   ]
  },
  {
   "cell_type": "markdown",
   "metadata": {},
   "source": [
    "## Y clustering"
   ]
  },
  {
   "cell_type": "code",
   "execution_count": 108,
   "metadata": {},
   "outputs": [],
   "source": [
    "from sklearn import preprocessing as pp\n",
    "from sklearn.cluster     import KMeans\n",
    "from sklearn.datasets    import make_blobs\n",
    "from yellowbrick.cluster import KElbowVisualizer, SilhouetteVisualizer, InterclusterDistance\n",
    "from sklearn.metrics.pairwise import cosine_similarity, euclidean_distances\n",
    "\n",
    "\n",
    "\n",
    "def clustering(Xdata, k=3):\n",
    "    # Instantiate the clustering model and visualizer\n",
    "    #model = KMeans(random_state=0)\n",
    "    #visualizer = KElbowVisualizer(model, k=(2,12))\n",
    "\n",
    "    #visualizer.fit(Xdata)        # Fit the data to the visualizer\n",
    "    #visualizer.show()        # Finalize and render the figure\n",
    "\n",
    "    model = KMeans(n_clusters=k, random_state=0)\n",
    "    visualizer = InterclusterDistance(model)\n",
    "\n",
    "    visualizer.fit(Xdata)        # Fit the data to the visualizer\n",
    "    visualizer.show()        # Finalize and render the figure\n",
    "\n",
    "    visualizer = SilhouetteVisualizer(model, colors='yellowbrick')\n",
    "\n",
    "    visualizer.fit(Xdata)        # Fit the data to the visualizer\n",
    "    visualizer.show()        # Finalize and render the figure"
   ]
  },
  {
   "cell_type": "code",
   "execution_count": 109,
   "metadata": {},
   "outputs": [
    {
     "data": {
      "image/png": "[encoded data removed]",
      "text/plain": [
       "<Figure size 576x396 with 2 Axes>"
      ]
     },
     "metadata": {},
     "output_type": "display_data"
    },
    {
     "data": {
      "image/png": "[encoded data removed]",
      "text/plain": [
       "<Figure size 576x396 with 1 Axes>"
      ]
     },
     "metadata": {},
     "output_type": "display_data"
    }
   ],
   "source": [
    "clustering(lrm['Y'].T)"
   ]
  },
  {
   "cell_type": "markdown",
   "metadata": {},
   "source": [
    "## `X` clustering"
   ]
  },
  {
   "cell_type": "code",
   "execution_count": 110,
   "metadata": {},
   "outputs": [
    {
     "data": {
      "image/png": "[encoded data removed]",
      "text/plain": [
       "<Figure size 576x396 with 2 Axes>"
      ]
     },
     "metadata": {},
     "output_type": "display_data"
    },
    {
     "data": {
      "image/png": "[encoded data removed]",
      "text/plain": [
       "<Figure size 576x396 with 1 Axes>"
      ]
     },
     "metadata": {},
     "output_type": "display_data"
    }
   ],
   "source": [
    "clustering(lrm['X'])"
   ]
  },
  {
   "cell_type": "markdown",
   "metadata": {},
   "source": [
    "## Logistic Regression "
   ]
  },
  {
   "cell_type": "code",
   "execution_count": 111,
   "metadata": {},
   "outputs": [],
   "source": [
    "from sklearn.linear_model import LogisticRegression\n",
    "from sklearn.model_selection import train_test_split\n",
    "from sklearn import metrics\n",
    "import matplotlib.pyplot as plt\n",
    "import scikitplot as skplt\n",
    "\n",
    "def LR(Xdata, Ydata, T=''):\n",
    "    \n",
    "    clf = LogisticRegression(C= 1, fit_intercept=False ,solver='liblinear',penalty='l1',max_iter=10000)\n",
    "    \n",
    "    X_train, X_test, y_train, y_test = train_test_split(Xdata, Ydata, test_size=0.10, random_state=42)\n",
    "    \n",
    "    \n",
    "    mdl = clf.fit(X_train, y_train)\n",
    "    \n",
    "    y_probas = mdl.predict_proba(X_test)\n",
    "    \n",
    "    skplt.metrics.plot_roc(y_test, y_probas)\n",
    "    \n",
    "    return \n",
    "    "
   ]
  },
  {
   "cell_type": "markdown",
   "metadata": {},
   "source": [
    "## - Original data"
   ]
  },
  {
   "cell_type": "code",
   "execution_count": 118,
   "metadata": {},
   "outputs": [
    {
     "data": {
      "image/png": "[encoded data removed]",
      "text/plain": [
       "<Figure size 576x396 with 1 Axes>"
      ]
     },
     "metadata": {},
     "output_type": "display_data"
    }
   ],
   "source": [
    "# Predictors\n",
    "Xdata = penguins.dropna().drop('species_',axis =1)\n",
    "Xdata = pd.get_dummies(Xdata)\n",
    "Xdata[num_cols] = preprocessing.StandardScaler().fit_transform(Xdata[num_cols])\n",
    "\n",
    "#Target\n",
    "sp = penguins.dropna()['species_']\n",
    "le_species = preprocessing.LabelEncoder().fit(sp)\n",
    "target = le_species.transform( sp )\n",
    "\n",
    "LR(Xdata[ list(np.random.choice(Xdata.columns,3)) ],target )"
   ]
  },
  {
   "cell_type": "markdown",
   "metadata": {},
   "source": [
    "## - Reduced Representation"
   ]
  },
  {
   "cell_type": "code",
   "execution_count": 120,
   "metadata": {},
   "outputs": [
    {
     "data": {
      "image/png": "[encoded data removed]",
      "text/plain": [
       "<Figure size 576x396 with 1 Axes>"
      ]
     },
     "metadata": {},
     "output_type": "display_data"
    }
   ],
   "source": [
    "#Target\n",
    "sp = penguins['species_']\n",
    "le_species = preprocessing.LabelEncoder().fit(sp)\n",
    "target = le_species.transform( sp )\n",
    "\n",
    "LR( lrm['X'], target )"
   ]
  },
  {
   "cell_type": "markdown",
   "metadata": {},
   "source": [
    "# shutdown H2O cluster"
   ]
  },
  {
   "cell_type": "code",
   "execution_count": 121,
   "metadata": {},
   "outputs": [
    {
     "name": "stdout",
     "output_type": "stream",
     "text": [
      "H2O session _sid_8b9c closed.\n"
     ]
    }
   ],
   "source": [
    "h2o.cluster().shutdown()"
   ]
  },
  {
   "cell_type": "code",
   "execution_count": null,
   "metadata": {},
   "outputs": [],
   "source": []
  }
 ],
 "metadata": {
  "kernelspec": {
   "display_name": "Python 3",
   "language": "python",
   "name": "python3"
  },
  "language_info": {
   "codemirror_mode": {
    "name": "ipython",
    "version": 3
   },
   "file_extension": ".py",
   "mimetype": "text/x-python",
   "name": "python",
   "nbconvert_exporter": "python",
   "pygments_lexer": "ipython3",
   "version": "3.8.1"
  }
 },
 "nbformat": 4,
 "nbformat_minor": 4
}
